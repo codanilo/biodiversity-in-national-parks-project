{
 "cells": [
  {
   "cell_type": "markdown",
   "metadata": {},
   "source": [
    "# Introduction\n",
    "\n",
    "The goal of this project is to analyze the biodiversity data from the National Parks Service, particulary around various species in different national parks and locations.\n",
    "\n",
    "This project is intended to scope, analyze, prepare and plot data, and seek to explain the findings from this analysis.\n",
    "\n",
    "Here are some questions that this project seeks to answer:\n",
    "\n",
    "- What is the distribution of conservation status for animal species?\n",
    "- Are certain types of species more likely to be endangered?\n",
    "- Which species were spotted the most and ther distribution amongst parks?\n",
    "\n",
    "\n",
    "\n",
    "**Data Sources:**\n",
    "\n",
    "`observations.csv` and `species_info.csv` were provided by [Codecademy.com](https://www.codecademy.com) learning platform.\n",
    "\n",
    "Please note: The data for this project is *inspired* by real world data, but is mostly fictional."
   ]
  },
  {
   "cell_type": "markdown",
   "metadata": {},
   "source": [
    "## Scoping the Project\n",
    "\n",
    "Four sections were created below to help guide the project's process and progress. The first section is *Project Goals*, this section will define the objectives and set the intentions for this project. The next section is the *Data* (data is already provided but still needs to be checked if it can meet the project goals). Thirdly, the *Analysis*, which includes the methods and questions that align with the project goals. Lastly, *Evaluation* will help us make conclusions and findings from our analysis.\n",
    "\n",
    "### Project Goals\n",
    "\n",
    "In this project the perspective will be through a biodiversity analyst for the National Parks Service. The National Park Service wants to ensure the survival of at-risk species, to maintain the level of biodiversity within their parks. Therefore, the main objectives as an analyst will be understanding characteristics about the species and their conservations status, and those species and their relationship to the national parks.\n",
    "\n",
    "### Data\n",
    "\n",
    "This project has two data sets that came with the package. The first `csv` file has information about each species and another has observations of species with park locations. This data will be used to analyze the goals of the project. \n",
    "\n",
    "### Analysis\n",
    "\n",
    "In this section, descriptive statistics and data visualization techniques will be employed to understand the data better. Some of the key metrics that will be computed include: \n",
    "\n",
    "1. Distributions\n",
    "1. Counts\n",
    "1. Relationship between species\n",
    "1. Conservation status of species\n",
    "1. Observations of species in parks\n",
    "\n",
    "### Evaluation\n",
    "\n",
    "Revisiting the goals and checking if the output of the analysis corresponds to the questions first set to be answered (the goals section). This section will also reflect on what has been learned through the process, and if any of the questions were unable to be answered."
   ]
  },
  {
   "cell_type": "markdown",
   "metadata": {},
   "source": [
    "## Import Python Modules\n",
    "\n",
    "Import of the primary modules that will be used in this project:"
   ]
  },
  {
   "cell_type": "code",
   "execution_count": 1,
   "metadata": {},
   "outputs": [],
   "source": [
    "import matplotlib.pyplot as plt\n",
    "import pandas as pd\n",
    "import seaborn as sb\n",
    "import statsmodels.api as sm\n",
    "from scipy.stats import chi2_contingency\n",
    "from itertools import chain\n",
    "import string"
   ]
  },
  {
   "cell_type": "markdown",
   "metadata": {},
   "source": [
    "## Data Loading\n",
    "\n",
    "To analyze the status of conservation of species and their observations in national parks, the datasets are loaded into `DataFrames`. Once loaded as `DataFrames` the data can be explored and visualized with Python.\n",
    "\n",
    "In the next steps, `species_info.csv` and `observations.csv` are read in as `DataFrames` called `species` and `observations` respectively. The newly created `DataFrames` are inspected with `.head()` and `.info()` to check its contents and shape&dimensions."
   ]
  },
  {
   "cell_type": "code",
   "execution_count": 2,
   "metadata": {},
   "outputs": [],
   "source": [
    "species = pd.read_csv('species_info.csv')\n",
    "observations = pd.read_csv('observations.csv')"
   ]
  },
  {
   "cell_type": "markdown",
   "metadata": {},
   "source": [
    "### Species\n",
    "\n",
    "The `species_info.csv` contains information on the different species in the National Parks. The columns in the data set include:\n",
    "- **category** - The category of taxonomy for each species\n",
    "- **scientific_name** - The scientific name of each species\n",
    "- **common_names** - The common names of each species\n",
    "- **conservation_status** - The species conservation status"
   ]
  },
  {
   "cell_type": "code",
   "execution_count": 3,
   "metadata": {},
   "outputs": [
    {
     "data": {
      "text/html": [
       "<div>\n",
       "<style scoped>\n",
       "    .dataframe tbody tr th:only-of-type {\n",
       "        vertical-align: middle;\n",
       "    }\n",
       "\n",
       "    .dataframe tbody tr th {\n",
       "        vertical-align: top;\n",
       "    }\n",
       "\n",
       "    .dataframe thead th {\n",
       "        text-align: right;\n",
       "    }\n",
       "</style>\n",
       "<table border=\"1\" class=\"dataframe\">\n",
       "  <thead>\n",
       "    <tr style=\"text-align: right;\">\n",
       "      <th></th>\n",
       "      <th>category</th>\n",
       "      <th>scientific_name</th>\n",
       "      <th>common_names</th>\n",
       "      <th>conservation_status</th>\n",
       "    </tr>\n",
       "  </thead>\n",
       "  <tbody>\n",
       "    <tr>\n",
       "      <th>0</th>\n",
       "      <td>Mammal</td>\n",
       "      <td>Clethrionomys gapperi gapperi</td>\n",
       "      <td>Gapper's Red-Backed Vole</td>\n",
       "      <td>NaN</td>\n",
       "    </tr>\n",
       "    <tr>\n",
       "      <th>1</th>\n",
       "      <td>Mammal</td>\n",
       "      <td>Bos bison</td>\n",
       "      <td>American Bison, Bison</td>\n",
       "      <td>NaN</td>\n",
       "    </tr>\n",
       "    <tr>\n",
       "      <th>2</th>\n",
       "      <td>Mammal</td>\n",
       "      <td>Bos taurus</td>\n",
       "      <td>Aurochs, Aurochs, Domestic Cattle (Feral), Dom...</td>\n",
       "      <td>NaN</td>\n",
       "    </tr>\n",
       "    <tr>\n",
       "      <th>3</th>\n",
       "      <td>Mammal</td>\n",
       "      <td>Ovis aries</td>\n",
       "      <td>Domestic Sheep, Mouflon, Red Sheep, Sheep (Feral)</td>\n",
       "      <td>NaN</td>\n",
       "    </tr>\n",
       "    <tr>\n",
       "      <th>4</th>\n",
       "      <td>Mammal</td>\n",
       "      <td>Cervus elaphus</td>\n",
       "      <td>Wapiti Or Elk</td>\n",
       "      <td>NaN</td>\n",
       "    </tr>\n",
       "  </tbody>\n",
       "</table>\n",
       "</div>"
      ],
      "text/plain": [
       "  category                scientific_name  \\\n",
       "0   Mammal  Clethrionomys gapperi gapperi   \n",
       "1   Mammal                      Bos bison   \n",
       "2   Mammal                     Bos taurus   \n",
       "3   Mammal                     Ovis aries   \n",
       "4   Mammal                 Cervus elaphus   \n",
       "\n",
       "                                        common_names conservation_status  \n",
       "0                           Gapper's Red-Backed Vole                 NaN  \n",
       "1                              American Bison, Bison                 NaN  \n",
       "2  Aurochs, Aurochs, Domestic Cattle (Feral), Dom...                 NaN  \n",
       "3  Domestic Sheep, Mouflon, Red Sheep, Sheep (Feral)                 NaN  \n",
       "4                                      Wapiti Or Elk                 NaN  "
      ]
     },
     "execution_count": 3,
     "metadata": {},
     "output_type": "execute_result"
    }
   ],
   "source": [
    "species.head()"
   ]
  },
  {
   "cell_type": "markdown",
   "metadata": {},
   "source": [
    "### Species - Data Characteristics\n",
    "\n",
    "Checking the dimesions of the dataset, for `species` there are 5,824 rows and 4 columns."
   ]
  },
  {
   "cell_type": "code",
   "execution_count": 4,
   "metadata": {},
   "outputs": [
    {
     "name": "stdout",
     "output_type": "stream",
     "text": [
      "<class 'pandas.core.frame.DataFrame'>\n",
      "RangeIndex: 5824 entries, 0 to 5823\n",
      "Data columns (total 4 columns):\n",
      " #   Column               Non-Null Count  Dtype \n",
      "---  ------               --------------  ----- \n",
      " 0   category             5824 non-null   object\n",
      " 1   scientific_name      5824 non-null   object\n",
      " 2   common_names         5824 non-null   object\n",
      " 3   conservation_status  191 non-null    object\n",
      "dtypes: object(4)\n",
      "memory usage: 182.1+ KB\n"
     ]
    }
   ],
   "source": [
    "species.info()"
   ]
  },
  {
   "cell_type": "markdown",
   "metadata": {},
   "source": [
    "### Observations\n",
    "\n",
    "The `observations.csv` contains information from recorded sightings of different species throughout the national parks in the past 7 days. The columns included are:\n",
    "\n",
    "- **scientific_name** - The scientific name of each species\n",
    "- **park_name** - The name of the national park\n",
    "- **observations** - The number of observations in the past 7 days"
   ]
  },
  {
   "cell_type": "code",
   "execution_count": 5,
   "metadata": {},
   "outputs": [
    {
     "data": {
      "text/html": [
       "<div>\n",
       "<style scoped>\n",
       "    .dataframe tbody tr th:only-of-type {\n",
       "        vertical-align: middle;\n",
       "    }\n",
       "\n",
       "    .dataframe tbody tr th {\n",
       "        vertical-align: top;\n",
       "    }\n",
       "\n",
       "    .dataframe thead th {\n",
       "        text-align: right;\n",
       "    }\n",
       "</style>\n",
       "<table border=\"1\" class=\"dataframe\">\n",
       "  <thead>\n",
       "    <tr style=\"text-align: right;\">\n",
       "      <th></th>\n",
       "      <th>scientific_name</th>\n",
       "      <th>park_name</th>\n",
       "      <th>observations</th>\n",
       "    </tr>\n",
       "  </thead>\n",
       "  <tbody>\n",
       "    <tr>\n",
       "      <th>0</th>\n",
       "      <td>Vicia benghalensis</td>\n",
       "      <td>Great Smoky Mountains National Park</td>\n",
       "      <td>68</td>\n",
       "    </tr>\n",
       "    <tr>\n",
       "      <th>1</th>\n",
       "      <td>Neovison vison</td>\n",
       "      <td>Great Smoky Mountains National Park</td>\n",
       "      <td>77</td>\n",
       "    </tr>\n",
       "    <tr>\n",
       "      <th>2</th>\n",
       "      <td>Prunus subcordata</td>\n",
       "      <td>Yosemite National Park</td>\n",
       "      <td>138</td>\n",
       "    </tr>\n",
       "    <tr>\n",
       "      <th>3</th>\n",
       "      <td>Abutilon theophrasti</td>\n",
       "      <td>Bryce National Park</td>\n",
       "      <td>84</td>\n",
       "    </tr>\n",
       "    <tr>\n",
       "      <th>4</th>\n",
       "      <td>Githopsis specularioides</td>\n",
       "      <td>Great Smoky Mountains National Park</td>\n",
       "      <td>85</td>\n",
       "    </tr>\n",
       "  </tbody>\n",
       "</table>\n",
       "</div>"
      ],
      "text/plain": [
       "            scientific_name                            park_name  observations\n",
       "0        Vicia benghalensis  Great Smoky Mountains National Park            68\n",
       "1            Neovison vison  Great Smoky Mountains National Park            77\n",
       "2         Prunus subcordata               Yosemite National Park           138\n",
       "3      Abutilon theophrasti                  Bryce National Park            84\n",
       "4  Githopsis specularioides  Great Smoky Mountains National Park            85"
      ]
     },
     "execution_count": 5,
     "metadata": {},
     "output_type": "execute_result"
    }
   ],
   "source": [
    "observations.head()"
   ]
  },
  {
   "cell_type": "markdown",
   "metadata": {},
   "source": [
    "### Observations - Data Characteristics\n",
    "\n",
    "Checking the dimesions of the dataset, for `observations` there are 23,296 rows and 3 columns."
   ]
  },
  {
   "cell_type": "code",
   "execution_count": 6,
   "metadata": {},
   "outputs": [
    {
     "name": "stdout",
     "output_type": "stream",
     "text": [
      "<class 'pandas.core.frame.DataFrame'>\n",
      "RangeIndex: 23296 entries, 0 to 23295\n",
      "Data columns (total 3 columns):\n",
      " #   Column           Non-Null Count  Dtype \n",
      "---  ------           --------------  ----- \n",
      " 0   scientific_name  23296 non-null  object\n",
      " 1   park_name        23296 non-null  object\n",
      " 2   observations     23296 non-null  int64 \n",
      "dtypes: int64(1), object(2)\n",
      "memory usage: 546.1+ KB\n"
     ]
    }
   ],
   "source": [
    "observations.info()"
   ]
  },
  {
   "cell_type": "markdown",
   "metadata": {},
   "source": [
    "## Explore the Data"
   ]
  },
  {
   "cell_type": "markdown",
   "metadata": {},
   "source": [
    "Explloring the `species` data a little more in depth. The first thing is to find the number of distinct species in the data. Using the column `scientific_name` to get 5,541 unique species. There seems to be a lot of species in the national parks!"
   ]
  },
  {
   "cell_type": "code",
   "execution_count": 7,
   "metadata": {},
   "outputs": [
    {
     "name": "stdout",
     "output_type": "stream",
     "text": [
      "number of species: 5541\n"
     ]
    }
   ],
   "source": [
    "print(f\"number of species: {species.scientific_name.nunique()}\")"
   ]
  },
  {
   "cell_type": "markdown",
   "metadata": {},
   "source": [
    "Next is to find the number of `category` that are represented in the data and there are 7 including animals and plants."
   ]
  },
  {
   "cell_type": "code",
   "execution_count": 8,
   "metadata": {},
   "outputs": [
    {
     "name": "stdout",
     "output_type": "stream",
     "text": [
      "number of categories: 7\n",
      "categories: ['Mammal' 'Bird' 'Reptile' 'Amphibian' 'Fish' 'Vascular Plant'\n",
      " 'Nonvascular Plant']\n"
     ]
    }
   ],
   "source": [
    "print(f\"number of categories: {species.category.nunique()}\")\n",
    "print(f\"categories: {species.category.unique()}\")"
   ]
  },
  {
   "cell_type": "markdown",
   "metadata": {},
   "source": [
    "Going one level deeper to see the count of `category` in the data. Vascular plants are by far the largest share of species with 4,470 in the data with reptiles being the fewest with 79."
   ]
  },
  {
   "cell_type": "code",
   "execution_count": 9,
   "metadata": {},
   "outputs": [
    {
     "data": {
      "text/plain": [
       "category\n",
       "Vascular Plant       4470\n",
       "Bird                  521\n",
       "Nonvascular Plant     333\n",
       "Mammal                214\n",
       "Fish                  127\n",
       "Amphibian              80\n",
       "Reptile                79\n",
       "dtype: int64"
      ]
     },
     "execution_count": 9,
     "metadata": {},
     "output_type": "execute_result"
    }
   ],
   "source": [
    "species.groupby('category').size().sort_values(ascending=False)"
   ]
  },
  {
   "cell_type": "markdown",
   "metadata": {},
   "source": [
    "Another column to explore is `conservation_status`. The column has 4 categories, `Species of Concern`, `Endangered`, `Threatened`, `In Recovery`, and  `nan` (empty) values. "
   ]
  },
  {
   "cell_type": "code",
   "execution_count": 10,
   "metadata": {},
   "outputs": [
    {
     "name": "stdout",
     "output_type": "stream",
     "text": [
      "number of conservation statuses: 4\n",
      "unique conservation statuses: [nan 'Species of Concern' 'Endangered' 'Threatened' 'In Recovery']\n"
     ]
    }
   ],
   "source": [
    "print(f\"number of conservation statuses: {species.conservation_status.nunique()}\")\n",
    "print(f\"unique conservation statuses: {species.conservation_status.unique()}\")"
   ]
  },
  {
   "cell_type": "markdown",
   "metadata": {},
   "source": [
    "Next a count of the number of observations in the breakdown of the categories in `conservation_status` is done. There are 5,633 `nan` values which means that they are species *without concerns*. On the other hand there are `161` species of concern, `16` endangered, `10` threatened, and `4` in recovery. \n",
    "\n",
    "Note: In most cases coming across `nan` values must be treated carefully, but the absence of data here means that these species are not under any conservation status."
   ]
  },
  {
   "cell_type": "code",
   "execution_count": 11,
   "metadata": {},
   "outputs": [
    {
     "name": "stdout",
     "output_type": "stream",
     "text": [
      "conservation_status\n",
      "Endangered             16\n",
      "In Recovery             4\n",
      "Species of Concern    161\n",
      "Threatened             10\n",
      "dtype: int64\n",
      "na values: 5633\n"
     ]
    }
   ],
   "source": [
    "print(species.groupby('conservation_status').size())\n",
    "print(f\"na values: {species.conservation_status.isna().sum()}\")"
   ]
  },
  {
   "cell_type": "markdown",
   "metadata": {},
   "source": [
    "### Observations\n",
    "\n",
    "The next section looks at `observations` data. The first task is to check the number of parks that are in the dataset and there are only 4 national parks."
   ]
  },
  {
   "cell_type": "code",
   "execution_count": 12,
   "metadata": {},
   "outputs": [
    {
     "name": "stdout",
     "output_type": "stream",
     "text": [
      "number of national parks: 4\n",
      "unique national parks: ['Great Smoky Mountains National Park' 'Yosemite National Park'\n",
      " 'Bryce National Park' 'Yellowstone National Park']\n"
     ]
    }
   ],
   "source": [
    "print(f\"number of national parks: {observations.park_name.nunique()}\")\n",
    "print(f\"unique national parks: {observations.park_name.unique()}\")"
   ]
  },
  {
   "cell_type": "markdown",
   "metadata": {},
   "source": [
    "Here is the total number of observations logged in the parks. There are 3,314,739 sightings in the last 7 days."
   ]
  },
  {
   "cell_type": "code",
   "execution_count": 42,
   "metadata": {},
   "outputs": [
    {
     "name": "stdout",
     "output_type": "stream",
     "text": [
      "number of observations:3314739\n"
     ]
    }
   ],
   "source": [
    "print(f\"number of observations:{observations.observations.sum()}\")"
   ]
  },
  {
   "cell_type": "markdown",
   "metadata": {},
   "source": [
    "## Analysis"
   ]
  },
  {
   "cell_type": "markdown",
   "metadata": {},
   "source": [
    "Analyzing the data after the initial exploration. First task will be to clean and explore the `conservation_status` column in `species`.\n",
    "\n",
    "The column `conservation_status` has several possible values:\n",
    "- `Species of Concern`: declining or appear to be in need of conservation\n",
    "- `Threatened`: vulnerable to endangerment\n",
    "- `Endangered`: at risk of extinction\n",
    "- `In Recovery`: formerly `Endangered`, but currently not in danger\n",
    "\n",
    "In the exploration, a lot of `nan` values were detected. These values will need to be converted to `Without concern`."
   ]
  },
  {
   "cell_type": "code",
   "execution_count": 13,
   "metadata": {},
   "outputs": [],
   "source": [
    "species.conservation_status[species['conservation_status'].isnull()] = \"Without concern\""
   ]
  },
  {
   "cell_type": "code",
   "execution_count": 14,
   "metadata": {},
   "outputs": [
    {
     "data": {
      "text/plain": [
       "conservation_status\n",
       "Without concern       5633\n",
       "Species of Concern     161\n",
       "Endangered              16\n",
       "Threatened              10\n",
       "In Recovery              4\n",
       "dtype: int64"
      ]
     },
     "execution_count": 14,
     "metadata": {},
     "output_type": "execute_result"
    }
   ],
   "source": [
    "species.groupby(\"conservation_status\").size().sort_values(ascending=False)"
   ]
  },
  {
   "cell_type": "markdown",
   "metadata": {},
   "source": [
    "Next is to checkout the different categories that are nested in the `conservation_status` column except for the ones that do not require an intervention. There is the table and chart to explore below.\n",
    "\n",
    "In the `Endangered` status, 7 were mammals and 4 were birds.\n",
    "\n",
    "In the `In Recovery` status, there were 3 birds and 1 mammal.\n",
    "\n",
    "This could possibly mean that the birds are bouncing back more than the mammals. "
   ]
  },
  {
   "cell_type": "code",
   "execution_count": 15,
   "metadata": {},
   "outputs": [
    {
     "data": {
      "text/html": [
       "<div>\n",
       "<style scoped>\n",
       "    .dataframe tbody tr th:only-of-type {\n",
       "        vertical-align: middle;\n",
       "    }\n",
       "\n",
       "    .dataframe tbody tr th {\n",
       "        vertical-align: top;\n",
       "    }\n",
       "\n",
       "    .dataframe thead th {\n",
       "        text-align: right;\n",
       "    }\n",
       "</style>\n",
       "<table border=\"1\" class=\"dataframe\">\n",
       "  <thead>\n",
       "    <tr style=\"text-align: right;\">\n",
       "      <th>category</th>\n",
       "      <th>Amphibian</th>\n",
       "      <th>Bird</th>\n",
       "      <th>Fish</th>\n",
       "      <th>Mammal</th>\n",
       "      <th>Nonvascular Plant</th>\n",
       "      <th>Reptile</th>\n",
       "      <th>Vascular Plant</th>\n",
       "    </tr>\n",
       "    <tr>\n",
       "      <th>conservation_status</th>\n",
       "      <th></th>\n",
       "      <th></th>\n",
       "      <th></th>\n",
       "      <th></th>\n",
       "      <th></th>\n",
       "      <th></th>\n",
       "      <th></th>\n",
       "    </tr>\n",
       "  </thead>\n",
       "  <tbody>\n",
       "    <tr>\n",
       "      <th>Endangered</th>\n",
       "      <td>1.0</td>\n",
       "      <td>4.0</td>\n",
       "      <td>3.0</td>\n",
       "      <td>7.0</td>\n",
       "      <td>NaN</td>\n",
       "      <td>NaN</td>\n",
       "      <td>1.0</td>\n",
       "    </tr>\n",
       "    <tr>\n",
       "      <th>In Recovery</th>\n",
       "      <td>NaN</td>\n",
       "      <td>3.0</td>\n",
       "      <td>NaN</td>\n",
       "      <td>1.0</td>\n",
       "      <td>NaN</td>\n",
       "      <td>NaN</td>\n",
       "      <td>NaN</td>\n",
       "    </tr>\n",
       "    <tr>\n",
       "      <th>Species of Concern</th>\n",
       "      <td>4.0</td>\n",
       "      <td>72.0</td>\n",
       "      <td>4.0</td>\n",
       "      <td>28.0</td>\n",
       "      <td>5.0</td>\n",
       "      <td>5.0</td>\n",
       "      <td>43.0</td>\n",
       "    </tr>\n",
       "    <tr>\n",
       "      <th>Threatened</th>\n",
       "      <td>2.0</td>\n",
       "      <td>NaN</td>\n",
       "      <td>4.0</td>\n",
       "      <td>2.0</td>\n",
       "      <td>NaN</td>\n",
       "      <td>NaN</td>\n",
       "      <td>2.0</td>\n",
       "    </tr>\n",
       "  </tbody>\n",
       "</table>\n",
       "</div>"
      ],
      "text/plain": [
       "category             Amphibian  Bird  Fish  Mammal  Nonvascular Plant  \\\n",
       "conservation_status                                                     \n",
       "Endangered                 1.0   4.0   3.0     7.0                NaN   \n",
       "In Recovery                NaN   3.0   NaN     1.0                NaN   \n",
       "Species of Concern         4.0  72.0   4.0    28.0                5.0   \n",
       "Threatened                 2.0   NaN   4.0     2.0                NaN   \n",
       "\n",
       "category             Reptile  Vascular Plant  \n",
       "conservation_status                           \n",
       "Endangered               NaN             1.0  \n",
       "In Recovery              NaN             NaN  \n",
       "Species of Concern       5.0            43.0  \n",
       "Threatened               NaN             2.0  "
      ]
     },
     "execution_count": 15,
     "metadata": {},
     "output_type": "execute_result"
    }
   ],
   "source": [
    "conservation_category = species[species.conservation_status != \"Without concern\"]\\\n",
    "    .groupby(['conservation_status', 'category'])['scientific_name']\\\n",
    "    .count().unstack()\n",
    "\n",
    "conservation_category"
   ]
  },
  {
   "cell_type": "code",
   "execution_count": 16,
   "metadata": {},
   "outputs": [
    {
     "data": {
      "text/plain": [
       "Text(0, 0.5, 'Conservation Status')"
      ]
     },
     "execution_count": 16,
     "metadata": {},
     "output_type": "execute_result"
    },
    {
     "data": {
      "image/png": "[encoded data removed]",
      "text/plain": [
       "<Figure size 1000x800 with 1 Axes>"
      ]
     },
     "metadata": {},
     "output_type": "display_data"
    }
   ],
   "source": [
    "ax = conservation_category.plot(kind='barh', figsize=(10, 8), stacked=True)\n",
    "ax.set_xlabel(\"Number of Species\")\n",
    "ax.set_ylabel(\"Conservation Status\")"
   ]
  },
  {
   "cell_type": "markdown",
   "metadata": {},
   "source": [
    "### In Conservation\n",
    "\n",
    "The next question is if certain types of species are more likely to be endangered? Creating a new column called `is_protected` and including species that have a value other than `Without concern` can help us answer this question."
   ]
  },
  {
   "cell_type": "code",
   "execution_count": 18,
   "metadata": {},
   "outputs": [],
   "source": [
    "species['is_protected'] = species.conservation_status != 'Without concern'"
   ]
  },
  {
   "cell_type": "markdown",
   "metadata": {},
   "source": [
    "Grouping by `category` and `is_protected` to show the break down of each species type and their protection status.\n",
    "\n",
    "Birds, Mammals and Vascular Plants have a higher number of species protected."
   ]
  },
  {
   "cell_type": "code",
   "execution_count": 43,
   "metadata": {},
   "outputs": [
    {
     "data": {
      "text/html": [
       "<div>\n",
       "<style scoped>\n",
       "    .dataframe tbody tr th:only-of-type {\n",
       "        vertical-align: middle;\n",
       "    }\n",
       "\n",
       "    .dataframe tbody tr th {\n",
       "        vertical-align: top;\n",
       "    }\n",
       "\n",
       "    .dataframe thead th {\n",
       "        text-align: right;\n",
       "    }\n",
       "</style>\n",
       "<table border=\"1\" class=\"dataframe\">\n",
       "  <thead>\n",
       "    <tr style=\"text-align: right;\">\n",
       "      <th></th>\n",
       "      <th>category</th>\n",
       "      <th>not_protected</th>\n",
       "      <th>protected</th>\n",
       "    </tr>\n",
       "  </thead>\n",
       "  <tbody>\n",
       "    <tr>\n",
       "      <th>0</th>\n",
       "      <td>Amphibian</td>\n",
       "      <td>72</td>\n",
       "      <td>7</td>\n",
       "    </tr>\n",
       "    <tr>\n",
       "      <th>1</th>\n",
       "      <td>Bird</td>\n",
       "      <td>413</td>\n",
       "      <td>75</td>\n",
       "    </tr>\n",
       "    <tr>\n",
       "      <th>2</th>\n",
       "      <td>Fish</td>\n",
       "      <td>115</td>\n",
       "      <td>11</td>\n",
       "    </tr>\n",
       "    <tr>\n",
       "      <th>3</th>\n",
       "      <td>Mammal</td>\n",
       "      <td>146</td>\n",
       "      <td>30</td>\n",
       "    </tr>\n",
       "    <tr>\n",
       "      <th>4</th>\n",
       "      <td>Nonvascular Plant</td>\n",
       "      <td>328</td>\n",
       "      <td>5</td>\n",
       "    </tr>\n",
       "    <tr>\n",
       "      <th>5</th>\n",
       "      <td>Reptile</td>\n",
       "      <td>73</td>\n",
       "      <td>5</td>\n",
       "    </tr>\n",
       "    <tr>\n",
       "      <th>6</th>\n",
       "      <td>Vascular Plant</td>\n",
       "      <td>4216</td>\n",
       "      <td>46</td>\n",
       "    </tr>\n",
       "  </tbody>\n",
       "</table>\n",
       "</div>"
      ],
      "text/plain": [
       "            category  not_protected  protected\n",
       "0          Amphibian             72          7\n",
       "1               Bird            413         75\n",
       "2               Fish            115         11\n",
       "3             Mammal            146         30\n",
       "4  Nonvascular Plant            328          5\n",
       "5            Reptile             73          5\n",
       "6     Vascular Plant           4216         46"
      ]
     },
     "execution_count": 43,
     "metadata": {},
     "output_type": "execute_result"
    }
   ],
   "source": [
    "category_counts = species.groupby(['category', 'is_protected'])\\\n",
    "                        .scientific_name.nunique()\\\n",
    "                        .reset_index()\\\n",
    "                        .pivot(columns='is_protected',\n",
    "                                      index='category',\n",
    "                                      values='scientific_name')\\\n",
    "                        .reset_index()\n",
    "category_counts.columns = ['category', 'not_protected', 'protected']\n",
    "\n",
    "category_counts"
   ]
  },
  {
   "cell_type": "markdown",
   "metadata": {},
   "source": [
    "Calculating the rate of protection that each category exhibits in the data (since absolute number are not always showing the clear picture of what's happening). \n",
    "\n",
    "We can now see that `~ 17%` of mammals were under protection, as well as `~15%` of the birds. However, Vascular Plans are at `~1%`."
   ]
  },
  {
   "cell_type": "code",
   "execution_count": 20,
   "metadata": {},
   "outputs": [
    {
     "data": {
      "text/html": [
       "<div>\n",
       "<style scoped>\n",
       "    .dataframe tbody tr th:only-of-type {\n",
       "        vertical-align: middle;\n",
       "    }\n",
       "\n",
       "    .dataframe tbody tr th {\n",
       "        vertical-align: top;\n",
       "    }\n",
       "\n",
       "    .dataframe thead th {\n",
       "        text-align: right;\n",
       "    }\n",
       "</style>\n",
       "<table border=\"1\" class=\"dataframe\">\n",
       "  <thead>\n",
       "    <tr style=\"text-align: right;\">\n",
       "      <th></th>\n",
       "      <th>category</th>\n",
       "      <th>not_protected</th>\n",
       "      <th>protected</th>\n",
       "      <th>percent_protected</th>\n",
       "    </tr>\n",
       "  </thead>\n",
       "  <tbody>\n",
       "    <tr>\n",
       "      <th>0</th>\n",
       "      <td>Amphibian</td>\n",
       "      <td>72</td>\n",
       "      <td>7</td>\n",
       "      <td>8.860759</td>\n",
       "    </tr>\n",
       "    <tr>\n",
       "      <th>1</th>\n",
       "      <td>Bird</td>\n",
       "      <td>413</td>\n",
       "      <td>75</td>\n",
       "      <td>15.368852</td>\n",
       "    </tr>\n",
       "    <tr>\n",
       "      <th>2</th>\n",
       "      <td>Fish</td>\n",
       "      <td>115</td>\n",
       "      <td>11</td>\n",
       "      <td>8.730159</td>\n",
       "    </tr>\n",
       "    <tr>\n",
       "      <th>3</th>\n",
       "      <td>Mammal</td>\n",
       "      <td>146</td>\n",
       "      <td>30</td>\n",
       "      <td>17.045455</td>\n",
       "    </tr>\n",
       "    <tr>\n",
       "      <th>4</th>\n",
       "      <td>Nonvascular Plant</td>\n",
       "      <td>328</td>\n",
       "      <td>5</td>\n",
       "      <td>1.501502</td>\n",
       "    </tr>\n",
       "    <tr>\n",
       "      <th>5</th>\n",
       "      <td>Reptile</td>\n",
       "      <td>73</td>\n",
       "      <td>5</td>\n",
       "      <td>6.410256</td>\n",
       "    </tr>\n",
       "    <tr>\n",
       "      <th>6</th>\n",
       "      <td>Vascular Plant</td>\n",
       "      <td>4216</td>\n",
       "      <td>46</td>\n",
       "      <td>1.079305</td>\n",
       "    </tr>\n",
       "  </tbody>\n",
       "</table>\n",
       "</div>"
      ],
      "text/plain": [
       "            category  not_protected  protected  percent_protected\n",
       "0          Amphibian             72          7           8.860759\n",
       "1               Bird            413         75          15.368852\n",
       "2               Fish            115         11           8.730159\n",
       "3             Mammal            146         30          17.045455\n",
       "4  Nonvascular Plant            328          5           1.501502\n",
       "5            Reptile             73          5           6.410256\n",
       "6     Vascular Plant           4216         46           1.079305"
      ]
     },
     "execution_count": 20,
     "metadata": {},
     "output_type": "execute_result"
    }
   ],
   "source": [
    "category_counts['percent_protected'] = category_counts.protected / (category_counts.protected + category_counts.not_protected) * 100\n",
    "\n",
    "category_counts"
   ]
  },
  {
   "cell_type": "markdown",
   "metadata": {},
   "source": [
    "### Species in Parks\n",
    "\n",
    "The next set of analysis will come from the conservationist data as they have been recording sightings of different species at four national parks for the past 7 days.\n",
    "\n",
    "The first step is looking at the common names from `species` to get an idea of the most prevalent animals in the dataset. The data will be split into individual names."
   ]
  },
  {
   "cell_type": "code",
   "execution_count": 23,
   "metadata": {},
   "outputs": [
    {
     "data": {
      "text/plain": [
       "[['Gappers', 'RedBacked', 'Vole'],\n",
       " ['American', 'Bison', 'Bison'],\n",
       " ['Aurochs',\n",
       "  'Aurochs',\n",
       "  'Domestic',\n",
       "  'Cattle',\n",
       "  'Feral',\n",
       "  'Domesticated',\n",
       "  'Cattle'],\n",
       " ['Domestic', 'Sheep', 'Mouflon', 'Red', 'Sheep', 'Sheep', 'Feral'],\n",
       " ['Wapiti', 'Or', 'Elk'],\n",
       " ['WhiteTailed', 'Deer']]"
      ]
     },
     "execution_count": 23,
     "metadata": {},
     "output_type": "execute_result"
    }
   ],
   "source": [
    "def remove_punctuations(text):\n",
    "    for punctuation in string.punctuation:\n",
    "        text = text.replace(punctuation, '')\n",
    "    return text\n",
    "\n",
    "common_names = species[species.category == 'Mammal']\\\n",
    "    .common_names.apply(remove_punctuations)\\\n",
    "    .str.split().tolist()\n",
    "\n",
    "common_names[:6]"
   ]
  },
  {
   "cell_type": "markdown",
   "metadata": {},
   "source": [
    "Cleaning up duplicate words in each row since they should be counted only once per species."
   ]
  },
  {
   "cell_type": "code",
   "execution_count": 25,
   "metadata": {},
   "outputs": [
    {
     "data": {
      "text/plain": [
       "[['Gappers', 'RedBacked', 'Vole'],\n",
       " ['American', 'Bison'],\n",
       " ['Aurochs', 'Domestic', 'Cattle', 'Feral', 'Domesticated'],\n",
       " ['Domestic', 'Sheep', 'Mouflon', 'Red', 'Feral'],\n",
       " ['Wapiti', 'Or', 'Elk'],\n",
       " ['WhiteTailed', 'Deer']]"
      ]
     },
     "execution_count": 25,
     "metadata": {},
     "output_type": "execute_result"
    }
   ],
   "source": [
    "cleanRows = []\n",
    "\n",
    "for item in common_names:\n",
    "    item = list(dict.fromkeys(item))\n",
    "    cleanRows.append(item)\n",
    "\n",
    "cleanRows[:6]"
   ]
  },
  {
   "cell_type": "markdown",
   "metadata": {},
   "source": [
    "Collapsing the words into one list for easier use."
   ]
  },
  {
   "cell_type": "code",
   "execution_count": 27,
   "metadata": {},
   "outputs": [
    {
     "data": {
      "text/plain": [
       "['Gappers', 'RedBacked', 'Vole', 'American', 'Bison', 'Aurochs']"
      ]
     },
     "execution_count": 27,
     "metadata": {},
     "output_type": "execute_result"
    }
   ],
   "source": [
    "res = list(chain.from_iterable(i if isinstance(i, list) else [i] for i in cleanRows))\n",
    "res[:6]"
   ]
  },
  {
   "cell_type": "markdown",
   "metadata": {},
   "source": [
    "The data is now ready to be able to count the number of occurences of each word.\n",
    "\n",
    "From this analysis:\n",
    "`Bat` occured 23 times\n",
    "`Shrew` came up 18 times."
   ]
  },
  {
   "cell_type": "code",
   "execution_count": 31,
   "metadata": {},
   "outputs": [
    {
     "data": {
      "text/html": [
       "<div>\n",
       "<style scoped>\n",
       "    .dataframe tbody tr th:only-of-type {\n",
       "        vertical-align: middle;\n",
       "    }\n",
       "\n",
       "    .dataframe tbody tr th {\n",
       "        vertical-align: top;\n",
       "    }\n",
       "\n",
       "    .dataframe thead th {\n",
       "        text-align: right;\n",
       "    }\n",
       "</style>\n",
       "<table border=\"1\" class=\"dataframe\">\n",
       "  <thead>\n",
       "    <tr style=\"text-align: right;\">\n",
       "      <th></th>\n",
       "      <th>Word</th>\n",
       "      <th>Count</th>\n",
       "    </tr>\n",
       "  </thead>\n",
       "  <tbody>\n",
       "    <tr>\n",
       "      <th>189</th>\n",
       "      <td>Bat</td>\n",
       "      <td>23</td>\n",
       "    </tr>\n",
       "    <tr>\n",
       "      <th>144</th>\n",
       "      <td>Shrew</td>\n",
       "      <td>18</td>\n",
       "    </tr>\n",
       "    <tr>\n",
       "      <th>14</th>\n",
       "      <td>Myotis</td>\n",
       "      <td>17</td>\n",
       "    </tr>\n",
       "    <tr>\n",
       "      <th>182</th>\n",
       "      <td>Mouse</td>\n",
       "      <td>16</td>\n",
       "    </tr>\n",
       "    <tr>\n",
       "      <th>162</th>\n",
       "      <td>Chipmunk</td>\n",
       "      <td>13</td>\n",
       "    </tr>\n",
       "    <tr>\n",
       "      <th>96</th>\n",
       "      <td>American</td>\n",
       "      <td>12</td>\n",
       "    </tr>\n",
       "    <tr>\n",
       "      <th>132</th>\n",
       "      <td>Squirrel</td>\n",
       "      <td>12</td>\n",
       "    </tr>\n",
       "    <tr>\n",
       "      <th>4</th>\n",
       "      <td>Vole</td>\n",
       "      <td>11</td>\n",
       "    </tr>\n",
       "    <tr>\n",
       "      <th>87</th>\n",
       "      <td>Eastern</td>\n",
       "      <td>11</td>\n",
       "    </tr>\n",
       "    <tr>\n",
       "      <th>114</th>\n",
       "      <td>Western</td>\n",
       "      <td>10</td>\n",
       "    </tr>\n",
       "  </tbody>\n",
       "</table>\n",
       "</div>"
      ],
      "text/plain": [
       "         Word  Count\n",
       "189       Bat     23\n",
       "144     Shrew     18\n",
       "14     Myotis     17\n",
       "182     Mouse     16\n",
       "162  Chipmunk     13\n",
       "96   American     12\n",
       "132  Squirrel     12\n",
       "4        Vole     11\n",
       "87    Eastern     11\n",
       "114   Western     10"
      ]
     },
     "execution_count": 31,
     "metadata": {},
     "output_type": "execute_result"
    }
   ],
   "source": [
    "counted_words = []\n",
    "\n",
    "for i in res:\n",
    "    x = res.count(i)\n",
    "    counted_words.append((i, x))\n",
    "\n",
    "pd.DataFrame(set(counted_words), columns = ['Word', 'Count']).sort_values('Count', ascending= False).head(10)"
   ]
  },
  {
   "cell_type": "markdown",
   "metadata": {},
   "source": [
    "In the data, there are several different scientific names for different types of bats.  The next task is to figure out which rows of `species` are referring to bats. A new column made up of boolean values will be created to check if `is_bat` is `True`."
   ]
  },
  {
   "cell_type": "code",
   "execution_count": 32,
   "metadata": {},
   "outputs": [
    {
     "data": {
      "text/html": [
       "<div>\n",
       "<style scoped>\n",
       "    .dataframe tbody tr th:only-of-type {\n",
       "        vertical-align: middle;\n",
       "    }\n",
       "\n",
       "    .dataframe tbody tr th {\n",
       "        vertical-align: top;\n",
       "    }\n",
       "\n",
       "    .dataframe thead th {\n",
       "        text-align: right;\n",
       "    }\n",
       "</style>\n",
       "<table border=\"1\" class=\"dataframe\">\n",
       "  <thead>\n",
       "    <tr style=\"text-align: right;\">\n",
       "      <th></th>\n",
       "      <th>category</th>\n",
       "      <th>scientific_name</th>\n",
       "      <th>common_names</th>\n",
       "      <th>conservation_status</th>\n",
       "      <th>is_protected</th>\n",
       "      <th>is_bat</th>\n",
       "    </tr>\n",
       "  </thead>\n",
       "  <tbody>\n",
       "    <tr>\n",
       "      <th>0</th>\n",
       "      <td>Mammal</td>\n",
       "      <td>Clethrionomys gapperi gapperi</td>\n",
       "      <td>Gapper's Red-Backed Vole</td>\n",
       "      <td>Without concern</td>\n",
       "      <td>False</td>\n",
       "      <td>False</td>\n",
       "    </tr>\n",
       "    <tr>\n",
       "      <th>1</th>\n",
       "      <td>Mammal</td>\n",
       "      <td>Bos bison</td>\n",
       "      <td>American Bison, Bison</td>\n",
       "      <td>Without concern</td>\n",
       "      <td>False</td>\n",
       "      <td>False</td>\n",
       "    </tr>\n",
       "    <tr>\n",
       "      <th>2</th>\n",
       "      <td>Mammal</td>\n",
       "      <td>Bos taurus</td>\n",
       "      <td>Aurochs, Aurochs, Domestic Cattle (Feral), Dom...</td>\n",
       "      <td>Without concern</td>\n",
       "      <td>False</td>\n",
       "      <td>False</td>\n",
       "    </tr>\n",
       "    <tr>\n",
       "      <th>3</th>\n",
       "      <td>Mammal</td>\n",
       "      <td>Ovis aries</td>\n",
       "      <td>Domestic Sheep, Mouflon, Red Sheep, Sheep (Feral)</td>\n",
       "      <td>Without concern</td>\n",
       "      <td>False</td>\n",
       "      <td>False</td>\n",
       "    </tr>\n",
       "    <tr>\n",
       "      <th>4</th>\n",
       "      <td>Mammal</td>\n",
       "      <td>Cervus elaphus</td>\n",
       "      <td>Wapiti Or Elk</td>\n",
       "      <td>Without concern</td>\n",
       "      <td>False</td>\n",
       "      <td>False</td>\n",
       "    </tr>\n",
       "    <tr>\n",
       "      <th>5</th>\n",
       "      <td>Mammal</td>\n",
       "      <td>Odocoileus virginianus</td>\n",
       "      <td>White-Tailed Deer</td>\n",
       "      <td>Without concern</td>\n",
       "      <td>False</td>\n",
       "      <td>False</td>\n",
       "    </tr>\n",
       "    <tr>\n",
       "      <th>6</th>\n",
       "      <td>Mammal</td>\n",
       "      <td>Sus scrofa</td>\n",
       "      <td>Feral Hog, Wild Pig</td>\n",
       "      <td>Without concern</td>\n",
       "      <td>False</td>\n",
       "      <td>False</td>\n",
       "    </tr>\n",
       "    <tr>\n",
       "      <th>7</th>\n",
       "      <td>Mammal</td>\n",
       "      <td>Canis latrans</td>\n",
       "      <td>Coyote</td>\n",
       "      <td>Species of Concern</td>\n",
       "      <td>True</td>\n",
       "      <td>False</td>\n",
       "    </tr>\n",
       "    <tr>\n",
       "      <th>8</th>\n",
       "      <td>Mammal</td>\n",
       "      <td>Canis lupus</td>\n",
       "      <td>Gray Wolf</td>\n",
       "      <td>Endangered</td>\n",
       "      <td>True</td>\n",
       "      <td>False</td>\n",
       "    </tr>\n",
       "    <tr>\n",
       "      <th>9</th>\n",
       "      <td>Mammal</td>\n",
       "      <td>Canis rufus</td>\n",
       "      <td>Red Wolf</td>\n",
       "      <td>Endangered</td>\n",
       "      <td>True</td>\n",
       "      <td>False</td>\n",
       "    </tr>\n",
       "  </tbody>\n",
       "</table>\n",
       "</div>"
      ],
      "text/plain": [
       "  category                scientific_name  \\\n",
       "0   Mammal  Clethrionomys gapperi gapperi   \n",
       "1   Mammal                      Bos bison   \n",
       "2   Mammal                     Bos taurus   \n",
       "3   Mammal                     Ovis aries   \n",
       "4   Mammal                 Cervus elaphus   \n",
       "5   Mammal         Odocoileus virginianus   \n",
       "6   Mammal                     Sus scrofa   \n",
       "7   Mammal                  Canis latrans   \n",
       "8   Mammal                    Canis lupus   \n",
       "9   Mammal                    Canis rufus   \n",
       "\n",
       "                                        common_names conservation_status  \\\n",
       "0                           Gapper's Red-Backed Vole     Without concern   \n",
       "1                              American Bison, Bison     Without concern   \n",
       "2  Aurochs, Aurochs, Domestic Cattle (Feral), Dom...     Without concern   \n",
       "3  Domestic Sheep, Mouflon, Red Sheep, Sheep (Feral)     Without concern   \n",
       "4                                      Wapiti Or Elk     Without concern   \n",
       "5                                  White-Tailed Deer     Without concern   \n",
       "6                                Feral Hog, Wild Pig     Without concern   \n",
       "7                                             Coyote  Species of Concern   \n",
       "8                                          Gray Wolf          Endangered   \n",
       "9                                           Red Wolf          Endangered   \n",
       "\n",
       "   is_protected  is_bat  \n",
       "0         False   False  \n",
       "1         False   False  \n",
       "2         False   False  \n",
       "3         False   False  \n",
       "4         False   False  \n",
       "5         False   False  \n",
       "6         False   False  \n",
       "7          True   False  \n",
       "8          True   False  \n",
       "9          True   False  "
      ]
     },
     "execution_count": 32,
     "metadata": {},
     "output_type": "execute_result"
    }
   ],
   "source": [
    "species['is_bat'] = species.common_names.str.contains(r\"\\bBat\\b\", regex = True)\n",
    "\n",
    "species.head(10)"
   ]
  },
  {
   "cell_type": "markdown",
   "metadata": {},
   "source": [
    "Here is a subset of the data where `is_bat` is true. There seems to be a lot of species of bats and a mix of protected vs non-protected species. "
   ]
  },
  {
   "cell_type": "code",
   "execution_count": 33,
   "metadata": {},
   "outputs": [
    {
     "data": {
      "text/html": [
       "<div>\n",
       "<style scoped>\n",
       "    .dataframe tbody tr th:only-of-type {\n",
       "        vertical-align: middle;\n",
       "    }\n",
       "\n",
       "    .dataframe tbody tr th {\n",
       "        vertical-align: top;\n",
       "    }\n",
       "\n",
       "    .dataframe thead th {\n",
       "        text-align: right;\n",
       "    }\n",
       "</style>\n",
       "<table border=\"1\" class=\"dataframe\">\n",
       "  <thead>\n",
       "    <tr style=\"text-align: right;\">\n",
       "      <th></th>\n",
       "      <th>category</th>\n",
       "      <th>scientific_name</th>\n",
       "      <th>common_names</th>\n",
       "      <th>conservation_status</th>\n",
       "      <th>is_protected</th>\n",
       "      <th>is_bat</th>\n",
       "    </tr>\n",
       "  </thead>\n",
       "  <tbody>\n",
       "    <tr>\n",
       "      <th>28</th>\n",
       "      <td>Mammal</td>\n",
       "      <td>Corynorhinus rafinesquii</td>\n",
       "      <td>Rafinesque's Big-Eared Bat</td>\n",
       "      <td>Without concern</td>\n",
       "      <td>False</td>\n",
       "      <td>True</td>\n",
       "    </tr>\n",
       "    <tr>\n",
       "      <th>29</th>\n",
       "      <td>Mammal</td>\n",
       "      <td>Eptesicus fuscus</td>\n",
       "      <td>Big Brown Bat</td>\n",
       "      <td>Species of Concern</td>\n",
       "      <td>True</td>\n",
       "      <td>True</td>\n",
       "    </tr>\n",
       "    <tr>\n",
       "      <th>30</th>\n",
       "      <td>Mammal</td>\n",
       "      <td>Lasionycteris noctivagans</td>\n",
       "      <td>Silver-Haired Bat</td>\n",
       "      <td>Species of Concern</td>\n",
       "      <td>True</td>\n",
       "      <td>True</td>\n",
       "    </tr>\n",
       "    <tr>\n",
       "      <th>31</th>\n",
       "      <td>Mammal</td>\n",
       "      <td>Lasiurus borealis</td>\n",
       "      <td>Eastern Red Bat, Red Bat</td>\n",
       "      <td>Without concern</td>\n",
       "      <td>False</td>\n",
       "      <td>True</td>\n",
       "    </tr>\n",
       "    <tr>\n",
       "      <th>32</th>\n",
       "      <td>Mammal</td>\n",
       "      <td>Lasiurus cinereus</td>\n",
       "      <td>Hoary Bat</td>\n",
       "      <td>Without concern</td>\n",
       "      <td>False</td>\n",
       "      <td>True</td>\n",
       "    </tr>\n",
       "    <tr>\n",
       "      <th>36</th>\n",
       "      <td>Mammal</td>\n",
       "      <td>Myotis leibii</td>\n",
       "      <td>Eastern Small-Footed Bat, Eastern Small-Footed...</td>\n",
       "      <td>Species of Concern</td>\n",
       "      <td>True</td>\n",
       "      <td>True</td>\n",
       "    </tr>\n",
       "    <tr>\n",
       "      <th>37</th>\n",
       "      <td>Mammal</td>\n",
       "      <td>Myotis lucifugus</td>\n",
       "      <td>Little Brown Bat, Little Brown Myotis</td>\n",
       "      <td>Species of Concern</td>\n",
       "      <td>True</td>\n",
       "      <td>True</td>\n",
       "    </tr>\n",
       "    <tr>\n",
       "      <th>38</th>\n",
       "      <td>Mammal</td>\n",
       "      <td>Myotis septentrionalis</td>\n",
       "      <td>Northern Long-Eared Bat, Northern Myotis</td>\n",
       "      <td>Threatened</td>\n",
       "      <td>True</td>\n",
       "      <td>True</td>\n",
       "    </tr>\n",
       "    <tr>\n",
       "      <th>39</th>\n",
       "      <td>Mammal</td>\n",
       "      <td>Myotis sodalis</td>\n",
       "      <td>Indiana Bat, Indiana Or Social Myotis</td>\n",
       "      <td>Endangered</td>\n",
       "      <td>True</td>\n",
       "      <td>True</td>\n",
       "    </tr>\n",
       "    <tr>\n",
       "      <th>40</th>\n",
       "      <td>Mammal</td>\n",
       "      <td>Nycticeius humeralis</td>\n",
       "      <td>Evening Bat</td>\n",
       "      <td>Without concern</td>\n",
       "      <td>False</td>\n",
       "      <td>True</td>\n",
       "    </tr>\n",
       "    <tr>\n",
       "      <th>3033</th>\n",
       "      <td>Mammal</td>\n",
       "      <td>Antrozous pallidus</td>\n",
       "      <td>Pallid Bat, Pallid Bat</td>\n",
       "      <td>Species of Concern</td>\n",
       "      <td>True</td>\n",
       "      <td>True</td>\n",
       "    </tr>\n",
       "    <tr>\n",
       "      <th>3034</th>\n",
       "      <td>Mammal</td>\n",
       "      <td>Corynorhinus townsendii</td>\n",
       "      <td>Mule-Eared Bat, Pacific Townsend's Big-Eared B...</td>\n",
       "      <td>Without concern</td>\n",
       "      <td>False</td>\n",
       "      <td>True</td>\n",
       "    </tr>\n",
       "    <tr>\n",
       "      <th>3035</th>\n",
       "      <td>Mammal</td>\n",
       "      <td>Eptesicus fuscus</td>\n",
       "      <td>Big Brown Bat, Big Brown Bat</td>\n",
       "      <td>Species of Concern</td>\n",
       "      <td>True</td>\n",
       "      <td>True</td>\n",
       "    </tr>\n",
       "    <tr>\n",
       "      <th>3036</th>\n",
       "      <td>Mammal</td>\n",
       "      <td>Euderma maculatum</td>\n",
       "      <td>Spotted Bat, Spotted Bat</td>\n",
       "      <td>Species of Concern</td>\n",
       "      <td>True</td>\n",
       "      <td>True</td>\n",
       "    </tr>\n",
       "    <tr>\n",
       "      <th>3037</th>\n",
       "      <td>Mammal</td>\n",
       "      <td>Lasionycteris noctivagans</td>\n",
       "      <td>Silver-Haired Bat, Silver-Haired Bat</td>\n",
       "      <td>Species of Concern</td>\n",
       "      <td>True</td>\n",
       "      <td>True</td>\n",
       "    </tr>\n",
       "    <tr>\n",
       "      <th>3038</th>\n",
       "      <td>Mammal</td>\n",
       "      <td>Lasiurus cinereus</td>\n",
       "      <td>Hoary Bat, Hoary Bat</td>\n",
       "      <td>Without concern</td>\n",
       "      <td>False</td>\n",
       "      <td>True</td>\n",
       "    </tr>\n",
       "    <tr>\n",
       "      <th>3040</th>\n",
       "      <td>Mammal</td>\n",
       "      <td>Myotis ciliolabrum</td>\n",
       "      <td>Small-Footed Myotis, Western Small-Footed Bat,...</td>\n",
       "      <td>Without concern</td>\n",
       "      <td>False</td>\n",
       "      <td>True</td>\n",
       "    </tr>\n",
       "    <tr>\n",
       "      <th>3042</th>\n",
       "      <td>Mammal</td>\n",
       "      <td>Myotis lucifugus</td>\n",
       "      <td>Little Brown Bat, Little Brown Myotis, Little ...</td>\n",
       "      <td>Species of Concern</td>\n",
       "      <td>True</td>\n",
       "      <td>True</td>\n",
       "    </tr>\n",
       "    <tr>\n",
       "      <th>4461</th>\n",
       "      <td>Mammal</td>\n",
       "      <td>Eumops perotis</td>\n",
       "      <td>Western Mastiff Bat</td>\n",
       "      <td>Without concern</td>\n",
       "      <td>False</td>\n",
       "      <td>True</td>\n",
       "    </tr>\n",
       "    <tr>\n",
       "      <th>4462</th>\n",
       "      <td>Mammal</td>\n",
       "      <td>Tadarida brasiliensis</td>\n",
       "      <td>Mexican Free-Tailed Bat</td>\n",
       "      <td>Without concern</td>\n",
       "      <td>False</td>\n",
       "      <td>True</td>\n",
       "    </tr>\n",
       "    <tr>\n",
       "      <th>4463</th>\n",
       "      <td>Mammal</td>\n",
       "      <td>Corynorhinus townsendii</td>\n",
       "      <td>Townsend's Big-Eared Bat</td>\n",
       "      <td>Without concern</td>\n",
       "      <td>False</td>\n",
       "      <td>True</td>\n",
       "    </tr>\n",
       "    <tr>\n",
       "      <th>4464</th>\n",
       "      <td>Mammal</td>\n",
       "      <td>Lasiurus blossevillii</td>\n",
       "      <td>Western Red Bat</td>\n",
       "      <td>Species of Concern</td>\n",
       "      <td>True</td>\n",
       "      <td>True</td>\n",
       "    </tr>\n",
       "    <tr>\n",
       "      <th>4468</th>\n",
       "      <td>Mammal</td>\n",
       "      <td>Parastrellus hesperus</td>\n",
       "      <td>Canyon Bat</td>\n",
       "      <td>Without concern</td>\n",
       "      <td>False</td>\n",
       "      <td>True</td>\n",
       "    </tr>\n",
       "  </tbody>\n",
       "</table>\n",
       "</div>"
      ],
      "text/plain": [
       "     category            scientific_name  \\\n",
       "28     Mammal   Corynorhinus rafinesquii   \n",
       "29     Mammal           Eptesicus fuscus   \n",
       "30     Mammal  Lasionycteris noctivagans   \n",
       "31     Mammal          Lasiurus borealis   \n",
       "32     Mammal          Lasiurus cinereus   \n",
       "36     Mammal              Myotis leibii   \n",
       "37     Mammal           Myotis lucifugus   \n",
       "38     Mammal     Myotis septentrionalis   \n",
       "39     Mammal             Myotis sodalis   \n",
       "40     Mammal       Nycticeius humeralis   \n",
       "3033   Mammal         Antrozous pallidus   \n",
       "3034   Mammal    Corynorhinus townsendii   \n",
       "3035   Mammal           Eptesicus fuscus   \n",
       "3036   Mammal          Euderma maculatum   \n",
       "3037   Mammal  Lasionycteris noctivagans   \n",
       "3038   Mammal          Lasiurus cinereus   \n",
       "3040   Mammal         Myotis ciliolabrum   \n",
       "3042   Mammal           Myotis lucifugus   \n",
       "4461   Mammal             Eumops perotis   \n",
       "4462   Mammal      Tadarida brasiliensis   \n",
       "4463   Mammal    Corynorhinus townsendii   \n",
       "4464   Mammal      Lasiurus blossevillii   \n",
       "4468   Mammal      Parastrellus hesperus   \n",
       "\n",
       "                                           common_names conservation_status  \\\n",
       "28                           Rafinesque's Big-Eared Bat     Without concern   \n",
       "29                                        Big Brown Bat  Species of Concern   \n",
       "30                                    Silver-Haired Bat  Species of Concern   \n",
       "31                             Eastern Red Bat, Red Bat     Without concern   \n",
       "32                                            Hoary Bat     Without concern   \n",
       "36    Eastern Small-Footed Bat, Eastern Small-Footed...  Species of Concern   \n",
       "37                Little Brown Bat, Little Brown Myotis  Species of Concern   \n",
       "38             Northern Long-Eared Bat, Northern Myotis          Threatened   \n",
       "39                Indiana Bat, Indiana Or Social Myotis          Endangered   \n",
       "40                                          Evening Bat     Without concern   \n",
       "3033                             Pallid Bat, Pallid Bat  Species of Concern   \n",
       "3034  Mule-Eared Bat, Pacific Townsend's Big-Eared B...     Without concern   \n",
       "3035                       Big Brown Bat, Big Brown Bat  Species of Concern   \n",
       "3036                           Spotted Bat, Spotted Bat  Species of Concern   \n",
       "3037               Silver-Haired Bat, Silver-Haired Bat  Species of Concern   \n",
       "3038                               Hoary Bat, Hoary Bat     Without concern   \n",
       "3040  Small-Footed Myotis, Western Small-Footed Bat,...     Without concern   \n",
       "3042  Little Brown Bat, Little Brown Myotis, Little ...  Species of Concern   \n",
       "4461                                Western Mastiff Bat     Without concern   \n",
       "4462                            Mexican Free-Tailed Bat     Without concern   \n",
       "4463                           Townsend's Big-Eared Bat     Without concern   \n",
       "4464                                    Western Red Bat  Species of Concern   \n",
       "4468                                         Canyon Bat     Without concern   \n",
       "\n",
       "      is_protected  is_bat  \n",
       "28           False    True  \n",
       "29            True    True  \n",
       "30            True    True  \n",
       "31           False    True  \n",
       "32           False    True  \n",
       "36            True    True  \n",
       "37            True    True  \n",
       "38            True    True  \n",
       "39            True    True  \n",
       "40           False    True  \n",
       "3033          True    True  \n",
       "3034         False    True  \n",
       "3035          True    True  \n",
       "3036          True    True  \n",
       "3037          True    True  \n",
       "3038         False    True  \n",
       "3040         False    True  \n",
       "3042          True    True  \n",
       "4461         False    True  \n",
       "4462         False    True  \n",
       "4463         False    True  \n",
       "4464          True    True  \n",
       "4468         False    True  "
      ]
     },
     "execution_count": 33,
     "metadata": {},
     "output_type": "execute_result"
    }
   ],
   "source": [
    "species[species.is_bat]"
   ]
  },
  {
   "cell_type": "markdown",
   "metadata": {},
   "source": [
    "The results of the bat species are merged with `observations` data to create a `DataFrame` with observations of bats across the four national parks."
   ]
  },
  {
   "cell_type": "code",
   "execution_count": 34,
   "metadata": {},
   "outputs": [
    {
     "data": {
      "text/html": [
       "<div>\n",
       "<style scoped>\n",
       "    .dataframe tbody tr th:only-of-type {\n",
       "        vertical-align: middle;\n",
       "    }\n",
       "\n",
       "    .dataframe tbody tr th {\n",
       "        vertical-align: top;\n",
       "    }\n",
       "\n",
       "    .dataframe thead th {\n",
       "        text-align: right;\n",
       "    }\n",
       "</style>\n",
       "<table border=\"1\" class=\"dataframe\">\n",
       "  <thead>\n",
       "    <tr style=\"text-align: right;\">\n",
       "      <th></th>\n",
       "      <th>scientific_name</th>\n",
       "      <th>park_name</th>\n",
       "      <th>observations</th>\n",
       "      <th>category</th>\n",
       "      <th>common_names</th>\n",
       "      <th>conservation_status</th>\n",
       "      <th>is_protected</th>\n",
       "      <th>is_bat</th>\n",
       "    </tr>\n",
       "  </thead>\n",
       "  <tbody>\n",
       "    <tr>\n",
       "      <th>0</th>\n",
       "      <td>Lasiurus blossevillii</td>\n",
       "      <td>Bryce National Park</td>\n",
       "      <td>113</td>\n",
       "      <td>Mammal</td>\n",
       "      <td>Western Red Bat</td>\n",
       "      <td>Species of Concern</td>\n",
       "      <td>True</td>\n",
       "      <td>True</td>\n",
       "    </tr>\n",
       "    <tr>\n",
       "      <th>1</th>\n",
       "      <td>Lasiurus blossevillii</td>\n",
       "      <td>Great Smoky Mountains National Park</td>\n",
       "      <td>70</td>\n",
       "      <td>Mammal</td>\n",
       "      <td>Western Red Bat</td>\n",
       "      <td>Species of Concern</td>\n",
       "      <td>True</td>\n",
       "      <td>True</td>\n",
       "    </tr>\n",
       "    <tr>\n",
       "      <th>2</th>\n",
       "      <td>Lasiurus blossevillii</td>\n",
       "      <td>Yosemite National Park</td>\n",
       "      <td>123</td>\n",
       "      <td>Mammal</td>\n",
       "      <td>Western Red Bat</td>\n",
       "      <td>Species of Concern</td>\n",
       "      <td>True</td>\n",
       "      <td>True</td>\n",
       "    </tr>\n",
       "    <tr>\n",
       "      <th>3</th>\n",
       "      <td>Lasiurus blossevillii</td>\n",
       "      <td>Yellowstone National Park</td>\n",
       "      <td>221</td>\n",
       "      <td>Mammal</td>\n",
       "      <td>Western Red Bat</td>\n",
       "      <td>Species of Concern</td>\n",
       "      <td>True</td>\n",
       "      <td>True</td>\n",
       "    </tr>\n",
       "    <tr>\n",
       "      <th>4</th>\n",
       "      <td>Corynorhinus rafinesquii</td>\n",
       "      <td>Yosemite National Park</td>\n",
       "      <td>188</td>\n",
       "      <td>Mammal</td>\n",
       "      <td>Rafinesque's Big-Eared Bat</td>\n",
       "      <td>Without concern</td>\n",
       "      <td>False</td>\n",
       "      <td>True</td>\n",
       "    </tr>\n",
       "    <tr>\n",
       "      <th>...</th>\n",
       "      <td>...</td>\n",
       "      <td>...</td>\n",
       "      <td>...</td>\n",
       "      <td>...</td>\n",
       "      <td>...</td>\n",
       "      <td>...</td>\n",
       "      <td>...</td>\n",
       "      <td>...</td>\n",
       "    </tr>\n",
       "    <tr>\n",
       "      <th>139</th>\n",
       "      <td>Myotis sodalis</td>\n",
       "      <td>Yellowstone National Park</td>\n",
       "      <td>68</td>\n",
       "      <td>Mammal</td>\n",
       "      <td>Indiana Bat, Indiana Or Social Myotis</td>\n",
       "      <td>Endangered</td>\n",
       "      <td>True</td>\n",
       "      <td>True</td>\n",
       "    </tr>\n",
       "    <tr>\n",
       "      <th>140</th>\n",
       "      <td>Myotis leibii</td>\n",
       "      <td>Yosemite National Park</td>\n",
       "      <td>132</td>\n",
       "      <td>Mammal</td>\n",
       "      <td>Eastern Small-Footed Bat, Eastern Small-Footed...</td>\n",
       "      <td>Species of Concern</td>\n",
       "      <td>True</td>\n",
       "      <td>True</td>\n",
       "    </tr>\n",
       "    <tr>\n",
       "      <th>141</th>\n",
       "      <td>Myotis leibii</td>\n",
       "      <td>Bryce National Park</td>\n",
       "      <td>84</td>\n",
       "      <td>Mammal</td>\n",
       "      <td>Eastern Small-Footed Bat, Eastern Small-Footed...</td>\n",
       "      <td>Species of Concern</td>\n",
       "      <td>True</td>\n",
       "      <td>True</td>\n",
       "    </tr>\n",
       "    <tr>\n",
       "      <th>142</th>\n",
       "      <td>Myotis leibii</td>\n",
       "      <td>Great Smoky Mountains National Park</td>\n",
       "      <td>49</td>\n",
       "      <td>Mammal</td>\n",
       "      <td>Eastern Small-Footed Bat, Eastern Small-Footed...</td>\n",
       "      <td>Species of Concern</td>\n",
       "      <td>True</td>\n",
       "      <td>True</td>\n",
       "    </tr>\n",
       "    <tr>\n",
       "      <th>143</th>\n",
       "      <td>Myotis leibii</td>\n",
       "      <td>Yellowstone National Park</td>\n",
       "      <td>233</td>\n",
       "      <td>Mammal</td>\n",
       "      <td>Eastern Small-Footed Bat, Eastern Small-Footed...</td>\n",
       "      <td>Species of Concern</td>\n",
       "      <td>True</td>\n",
       "      <td>True</td>\n",
       "    </tr>\n",
       "  </tbody>\n",
       "</table>\n",
       "<p>144 rows × 8 columns</p>\n",
       "</div>"
      ],
      "text/plain": [
       "              scientific_name                            park_name  \\\n",
       "0       Lasiurus blossevillii                  Bryce National Park   \n",
       "1       Lasiurus blossevillii  Great Smoky Mountains National Park   \n",
       "2       Lasiurus blossevillii               Yosemite National Park   \n",
       "3       Lasiurus blossevillii            Yellowstone National Park   \n",
       "4    Corynorhinus rafinesquii               Yosemite National Park   \n",
       "..                        ...                                  ...   \n",
       "139            Myotis sodalis            Yellowstone National Park   \n",
       "140             Myotis leibii               Yosemite National Park   \n",
       "141             Myotis leibii                  Bryce National Park   \n",
       "142             Myotis leibii  Great Smoky Mountains National Park   \n",
       "143             Myotis leibii            Yellowstone National Park   \n",
       "\n",
       "     observations category                                       common_names  \\\n",
       "0             113   Mammal                                    Western Red Bat   \n",
       "1              70   Mammal                                    Western Red Bat   \n",
       "2             123   Mammal                                    Western Red Bat   \n",
       "3             221   Mammal                                    Western Red Bat   \n",
       "4             188   Mammal                         Rafinesque's Big-Eared Bat   \n",
       "..            ...      ...                                                ...   \n",
       "139            68   Mammal              Indiana Bat, Indiana Or Social Myotis   \n",
       "140           132   Mammal  Eastern Small-Footed Bat, Eastern Small-Footed...   \n",
       "141            84   Mammal  Eastern Small-Footed Bat, Eastern Small-Footed...   \n",
       "142            49   Mammal  Eastern Small-Footed Bat, Eastern Small-Footed...   \n",
       "143           233   Mammal  Eastern Small-Footed Bat, Eastern Small-Footed...   \n",
       "\n",
       "    conservation_status  is_protected  is_bat  \n",
       "0    Species of Concern          True    True  \n",
       "1    Species of Concern          True    True  \n",
       "2    Species of Concern          True    True  \n",
       "3    Species of Concern          True    True  \n",
       "4       Without concern         False    True  \n",
       "..                  ...           ...     ...  \n",
       "139          Endangered          True    True  \n",
       "140  Species of Concern          True    True  \n",
       "141  Species of Concern          True    True  \n",
       "142  Species of Concern          True    True  \n",
       "143  Species of Concern          True    True  \n",
       "\n",
       "[144 rows x 8 columns]"
      ]
     },
     "execution_count": 34,
     "metadata": {},
     "output_type": "execute_result"
    }
   ],
   "source": [
    "bat_observations = observations.merge(species[species.is_bat])\n",
    "bat_observations"
   ]
  },
  {
   "cell_type": "markdown",
   "metadata": {},
   "source": [
    "Total number of bat observations(across all species) at each national park presented in the table below.\n",
    "Yellowstone National Park has the largest number of observations - `8,362`, and the Great Smoky Mountains National Park has the lowest number of observations - `2,411`."
   ]
  },
  {
   "cell_type": "code",
   "execution_count": 38,
   "metadata": {},
   "outputs": [
    {
     "data": {
      "text/html": [
       "<div>\n",
       "<style scoped>\n",
       "    .dataframe tbody tr th:only-of-type {\n",
       "        vertical-align: middle;\n",
       "    }\n",
       "\n",
       "    .dataframe tbody tr th {\n",
       "        vertical-align: top;\n",
       "    }\n",
       "\n",
       "    .dataframe thead th {\n",
       "        text-align: right;\n",
       "    }\n",
       "</style>\n",
       "<table border=\"1\" class=\"dataframe\">\n",
       "  <thead>\n",
       "    <tr style=\"text-align: right;\">\n",
       "      <th></th>\n",
       "      <th>park_name</th>\n",
       "      <th>observations</th>\n",
       "    </tr>\n",
       "  </thead>\n",
       "  <tbody>\n",
       "    <tr>\n",
       "      <th>0</th>\n",
       "      <td>Bryce National Park</td>\n",
       "      <td>3433</td>\n",
       "    </tr>\n",
       "    <tr>\n",
       "      <th>1</th>\n",
       "      <td>Great Smoky Mountains National Park</td>\n",
       "      <td>2411</td>\n",
       "    </tr>\n",
       "    <tr>\n",
       "      <th>2</th>\n",
       "      <td>Yellowstone National Park</td>\n",
       "      <td>8362</td>\n",
       "    </tr>\n",
       "    <tr>\n",
       "      <th>3</th>\n",
       "      <td>Yosemite National Park</td>\n",
       "      <td>4786</td>\n",
       "    </tr>\n",
       "  </tbody>\n",
       "</table>\n",
       "</div>"
      ],
      "text/plain": [
       "                             park_name  observations\n",
       "0                  Bryce National Park          3433\n",
       "1  Great Smoky Mountains National Park          2411\n",
       "2            Yellowstone National Park          8362\n",
       "3               Yosemite National Park          4786"
      ]
     },
     "execution_count": 38,
     "metadata": {},
     "output_type": "execute_result"
    }
   ],
   "source": [
    "bat_observations.groupby('park_name').observations.sum().reset_index()"
   ]
  },
  {
   "cell_type": "markdown",
   "metadata": {},
   "source": [
    "Diving deeper with protected bats vs non-protected bats sightings. \n",
    "\n",
    "Every park except for the Great Smoky National Park has more sightings of protected bats than non-protected. This could be considered a good sign for bats."
   ]
  },
  {
   "cell_type": "code",
   "execution_count": 40,
   "metadata": {},
   "outputs": [
    {
     "data": {
      "text/html": [
       "<div>\n",
       "<style scoped>\n",
       "    .dataframe tbody tr th:only-of-type {\n",
       "        vertical-align: middle;\n",
       "    }\n",
       "\n",
       "    .dataframe tbody tr th {\n",
       "        vertical-align: top;\n",
       "    }\n",
       "\n",
       "    .dataframe thead th {\n",
       "        text-align: right;\n",
       "    }\n",
       "</style>\n",
       "<table border=\"1\" class=\"dataframe\">\n",
       "  <thead>\n",
       "    <tr style=\"text-align: right;\">\n",
       "      <th></th>\n",
       "      <th>park_name</th>\n",
       "      <th>is_protected</th>\n",
       "      <th>observations</th>\n",
       "    </tr>\n",
       "  </thead>\n",
       "  <tbody>\n",
       "    <tr>\n",
       "      <th>0</th>\n",
       "      <td>Bryce National Park</td>\n",
       "      <td>False</td>\n",
       "      <td>1596</td>\n",
       "    </tr>\n",
       "    <tr>\n",
       "      <th>1</th>\n",
       "      <td>Bryce National Park</td>\n",
       "      <td>True</td>\n",
       "      <td>1837</td>\n",
       "    </tr>\n",
       "    <tr>\n",
       "      <th>2</th>\n",
       "      <td>Great Smoky Mountains National Park</td>\n",
       "      <td>False</td>\n",
       "      <td>1299</td>\n",
       "    </tr>\n",
       "    <tr>\n",
       "      <th>3</th>\n",
       "      <td>Great Smoky Mountains National Park</td>\n",
       "      <td>True</td>\n",
       "      <td>1112</td>\n",
       "    </tr>\n",
       "    <tr>\n",
       "      <th>4</th>\n",
       "      <td>Yellowstone National Park</td>\n",
       "      <td>False</td>\n",
       "      <td>4044</td>\n",
       "    </tr>\n",
       "    <tr>\n",
       "      <th>5</th>\n",
       "      <td>Yellowstone National Park</td>\n",
       "      <td>True</td>\n",
       "      <td>4318</td>\n",
       "    </tr>\n",
       "    <tr>\n",
       "      <th>6</th>\n",
       "      <td>Yosemite National Park</td>\n",
       "      <td>False</td>\n",
       "      <td>2345</td>\n",
       "    </tr>\n",
       "    <tr>\n",
       "      <th>7</th>\n",
       "      <td>Yosemite National Park</td>\n",
       "      <td>True</td>\n",
       "      <td>2441</td>\n",
       "    </tr>\n",
       "  </tbody>\n",
       "</table>\n",
       "</div>"
      ],
      "text/plain": [
       "                             park_name  is_protected  observations\n",
       "0                  Bryce National Park         False          1596\n",
       "1                  Bryce National Park          True          1837\n",
       "2  Great Smoky Mountains National Park         False          1299\n",
       "3  Great Smoky Mountains National Park          True          1112\n",
       "4            Yellowstone National Park         False          4044\n",
       "5            Yellowstone National Park          True          4318\n",
       "6               Yosemite National Park         False          2345\n",
       "7               Yosemite National Park          True          2441"
      ]
     },
     "execution_count": 40,
     "metadata": {},
     "output_type": "execute_result"
    }
   ],
   "source": [
    "observations_by_park = bat_observations.groupby(['park_name', 'is_protected']).observations.sum().reset_index()\n",
    "observations_by_park"
   ]
  },
  {
   "cell_type": "markdown",
   "metadata": {},
   "source": [
    "Below is a plot from the output of the last data manipulation.\n",
    "\n",
    "From this chart one can see that Yellowstone and Bryce National Parks seem to be doing a great job with their bat populations since there are more sightings of protected bats compared to non-protected species. The Great Smoky Mountains National Park might need to improve their efforts in conservation as they have seen more non-protected species."
   ]
  },
  {
   "cell_type": "code",
   "execution_count": 41,
   "metadata": {},
   "outputs": [
    {
     "data": {
      "image/png": "[encoded data removed]",
      "text/plain": [
       "<Figure size 1400x600 with 1 Axes>"
      ]
     },
     "metadata": {},
     "output_type": "display_data"
    }
   ],
   "source": [
    "plt.figure(figsize = (14, 6))\n",
    "sb.barplot(x= observations_by_park.park_name, y = observations_by_park.observations, hue=observations_by_park.is_protected)\n",
    "plt.xlabel('National Parks')\n",
    "plt.ylabel('Number of Observations')\n",
    "plt.title('Observarions of Bats - per week')\n",
    "plt.show()"
   ]
  },
  {
   "cell_type": "markdown",
   "metadata": {},
   "source": [
    "## Conclusions\n",
    "\n",
    "The project was able to make several data visualizations and inferences about the various species in four of the National Parks this dataset was made of.\n",
    "\n",
    "The questions first posted in the beginning were answered:\n",
    "\n",
    "- What is the distribution of conservation status for animal species?\n",
    "    - The vast majority of species were not part of conservation.(`5,633` vs `191`)\n",
    "- Are certain types of species more likely to be endangered?\n",
    "    - `Mammals` and `Birds` had the highest percentage of being in protection.\n",
    "- Which animal is most prevalent and what is their distribution amongst parks?\n",
    "    - the study found that `bats` occurred the most number of times and they were most likely to be found in Yellowstone National Park."
   ]
  },
  {
   "cell_type": "markdown",
   "metadata": {},
   "source": [
    "## Further Research\n",
    "\n",
    "This dataset only included observations from the last 7 days which prohibits analyze changes over time. It would be curious to see how the conservation status for various species changes over time. Also, what is missing is the Area of each park, it can be assumed that Yellowstone National Park might be much larger than the other parks which would mean that it would exhibit more observations and greater biodiversity."
   ]
  }
 ],
 "metadata": {
  "kernelspec": {
   "display_name": "Python 3.9.1 64-bit",
   "language": "python",
   "name": "python3"
  },
  "language_info": {
   "codemirror_mode": {
    "name": "ipython",
    "version": 3
   },
   "file_extension": ".py",
   "mimetype": "text/x-python",
   "name": "python",
   "nbconvert_exporter": "python",
   "pygments_lexer": "ipython3",
   "version": "3.9.1"
  },
  "vscode": {
   "interpreter": {
    "hash": "233b8deeb99bde94c37e0e7d9b49fe1c6f9145f0c9a8bc62108e1b8c3d900f3b"
   }
  }
 },
 "nbformat": 4,
 "nbformat_minor": 4
}
